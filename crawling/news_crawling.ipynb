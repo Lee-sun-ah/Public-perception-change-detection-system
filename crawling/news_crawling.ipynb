{
 "cells": [
  {
   "cell_type": "code",
   "execution_count": 7,
   "id": "4c91cfa7",
   "metadata": {},
   "outputs": [],
   "source": [
    "import requests\n",
    "from bs4 import BeautifulSoup\n",
    "import time\n",
    "import pandas as pd\n",
    "import re\n",
    "from datetime import datetime"
   ]
  },
  {
   "cell_type": "code",
   "execution_count": 8,
   "id": "db28212e",
   "metadata": {},
   "outputs": [],
   "source": [
    "result_df = pd.DataFrame()"
   ]
  },
  {
   "cell_type": "code",
   "execution_count": 9,
   "id": "d12e9a3a",
   "metadata": {},
   "outputs": [],
   "source": [
    "news=['https://search.naver.com/search.naver?where=news&query=%ED%95%9C%EA%B0%95%20%EC%8B%A4%EC%A2%85%20%EB%8C%80%ED%95%99%EC%83%9D&sm=tab_opt&sort=2&photo=0&field=0&pd=3&ds=2021.04.25&de=2021.05.31&docid=&related=0&mynews=0&office_type=0&office_section_code=0&news_office_checked=&nso=so%3Ar%2Cp%3Afrom20210425to20210531,a:all','https://search.naver.com/search.naver?where=news&query=%ED%95%9C%EA%B0%95%20%EC%8B%A4%EC%A2%85%20%EB%8C%80%ED%95%99%EC%83%9D&sm=tab_opt&sort=2&photo=0&field=0&pd=3&ds=2021.06.01&de=2021.07.31&docid=&related=0&mynews=0&office_type=0&office_section_code=0&news_office_checked=&nso=so%3Ar%2Cp%3Afrom20210601to20210731,a:all','https://search.naver.com/search.naver?where=news&query=%ED%95%9C%EA%B0%95%20%EC%8B%A4%EC%A2%85%20%EB%8C%80%ED%95%99%EC%83%9D&sm=tab_opt&sort=2&photo=0&field=0&pd=3&ds=2021.08.01&de=2021.09.30&docid=&related=0&mynews=0&office_type=0&office_section_code=0&news_office_checked=&nso=so%3Ar%2Cp%3Afrom20210801to20210930,a:all']"
   ]
  },
  {
   "cell_type": "code",
   "execution_count": 10,
   "id": "f25abcb9",
   "metadata": {},
   "outputs": [
    {
     "name": "stdout",
     "output_type": "stream",
     "text": [
      "4001\n"
     ]
    }
   ],
   "source": [
    "start = 1\n",
    "maxpage=400\n",
    "maxpage_t =(int(maxpage)-1)*10+1 \n",
    "# 11= 2페이지 21=3페이지 31=4페이지 ...81=9페이지 , 91=10페이지, 101=11페이지 \n",
    "\n",
    "while start <= maxpage_t: \n",
    "    url=news[2]+\"&start=\"+str(start)\n",
    "    #print(url)\n",
    "    headers = {'user-agent':'Mozilla/5.0 (Windows NT 10.0; Win64; x64) AppleWebKit/537.36 (KHTML, like Gecko) Chrome/88.0.4324.150 Safari/537.36','accept':'text/html,application/xhtml+xml,application/xml;q=0.9,image/avif,image/webp,image/apng,*/*;q=0.8,application/signed-exchange;v=b3;q=0.9'}\n",
    "    response = requests.get(url, headers=headers)\n",
    "    soup = BeautifulSoup(response.text, 'lxml')\n",
    "    news_title = [title['title'] for title in soup.find_all('a', attrs={'class':'news_tit'})] # 기사 제목\n",
    "    news_url = [ url['href'] for url in soup.find_all('a', attrs={'class':'news_tit'}) ] # 기사 url\n",
    "\n",
    "    dates = [ date.get_text() for date in soup.find_all('span', attrs={'class':'info'})] # 기사 작성일\n",
    "    news_date = []\n",
    "    for date in dates:\n",
    "        if re.search(r'\\d+.\\d+.\\d+.', date) != None: # 기사 작성일 정제\n",
    "            news_date.append(date)\n",
    "\n",
    "    df = pd.DataFrame({'기사작성일':news_date,'기사제목':news_title,'기사주소':news_url})\n",
    "    result_df = pd.concat([result_df, df], ignore_index=True)\n",
    "    start += 10\n",
    "\n",
    "print(start)"
   ]
  },
  {
   "cell_type": "code",
   "execution_count": 20,
   "id": "f2133a96",
   "metadata": {},
   "outputs": [],
   "source": [
    "now = datetime.now()\n",
    "outputFileName = '%s-%s-%s %s시 %s분 %s초.xlsx' % (now.year, now.month, now.day, now.hour, now.minute, now.second) \n",
    "result_df.to_excel(outputFileName,sheet_name='sheet1')"
   ]
  },
  {
   "cell_type": "markdown",
   "id": "1ec9f466",
   "metadata": {},
   "source": [
    "여기서부터는 xlsx->mysql code"
   ]
  },
  {
   "cell_type": "code",
   "execution_count": 32,
   "id": "d4a84883",
   "metadata": {},
   "outputs": [],
   "source": [
    "data=pd.read_excel('news_result.xlsx',names = ['I', 'DATE','TITLE','URL'],index_col='I')"
   ]
  },
  {
   "cell_type": "code",
   "execution_count": 33,
   "id": "5dee287f",
   "metadata": {},
   "outputs": [],
   "source": [
    "import pymysql\n",
    "\n",
    "conn = pymysql.connect(host='localhost', user='root', password='0000', db='twitter')\n",
    "mycursor = conn.cursor(pymysql.cursors.DictCursor)\n",
    "\n",
    "init=\"DROP TABLES IF EXISTS NEWS\"\n",
    "mycursor.execute(init)\n",
    "\n",
    "sql=\"CREATE TABLE NEWS(I INT NOT NULL AUTO_INCREMENT,DATE DATE,TITLE VARCHAR(60),URL VARCHAR(100),PRIMARY KEY(I));\"\n",
    "mycursor.execute(sql)\n",
    "\n",
    "ins=\"INSERT INTO NEWS(I,DATE,TITLE,URL) VALUES(NULL,%s,%s,%s)\"\n",
    "\n",
    "for idx in range(len(data)):\n",
    "    mycursor.execute(ins, tuple(data.values[idx]))\n",
    "conn.commit()\n",
    "\n",
    "conn.close()\n"
   ]
  },
  {
   "cell_type": "code",
   "execution_count": null,
   "id": "bc71a1ab",
   "metadata": {},
   "outputs": [],
   "source": []
  }
 ],
 "metadata": {
  "kernelspec": {
   "display_name": "Python 3",
   "language": "python",
   "name": "python3"
  },
  "language_info": {
   "codemirror_mode": {
    "name": "ipython",
    "version": 3
   },
   "file_extension": ".py",
   "mimetype": "text/x-python",
   "name": "python",
   "nbconvert_exporter": "python",
   "pygments_lexer": "ipython3",
   "version": "3.8.8"
  }
 },
 "nbformat": 4,
 "nbformat_minor": 5
}
