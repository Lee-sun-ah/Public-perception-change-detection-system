{
 "cells": [
  {
   "cell_type": "code",
   "execution_count": 1,
   "id": "5c72658d",
   "metadata": {},
   "outputs": [],
   "source": [
    "import numpy as np\n",
    "import pandas as pd\n",
    "import string\n",
    "import re\n",
    "import warnings\n",
    "import os\n",
    "import snscrape\n",
    "import snscrape.modules.twitter as sntwitter\n",
    "import datetime\n",
    "import csv\n",
    "import mysql.connector as c\n",
    "    \n",
    "warnings.filterwarnings(action='ignore')"
   ]
  },
  {
   "cell_type": "code",
   "execution_count": 2,
   "id": "cafad778",
   "metadata": {},
   "outputs": [],
   "source": [
    "mydb = c.connect(host = \"localhost\", user = \"root\", password = \"0000\", database = \"TWITTER\",auth_plugin='mysql_native_password')\n",
    "mycursor = mydb.cursor()\n",
    "\n",
    "init=\"DROP TABLES IF EXISTS TWITTER\"\n",
    "mycursor.execute(init)\n",
    "\n",
    "sql=\"CREATE TABLE TWITTER(I INT NOT NULL AUTO_INCREMENT,URL VARCHAR(100),USERNAME VARCHAR(20),DATE DATE,TIME TIME,TEXT VARCHAR(500),PRIMARY KEY(I));\"\n",
    "mycursor.execute(sql)\n",
    "\n",
    "ins=\"INSERT INTO TWITTER(I,URL,USERNAME,DATE,TIME,TEXT) VALUES(NULL,%s,%s,%s,%s,%s)\""
   ]
  },
  {
   "cell_type": "code",
   "execution_count": 3,
   "id": "645d10d6",
   "metadata": {},
   "outputs": [],
   "source": [
    "def tweet_list():\n",
    "    # Set maximum tweets to pull\n",
    "    maxTweets = 3000\n",
    "    # Set what keywords you want your twitter scraper to pull\n",
    "    keyword = '한강 의대생'\n",
    "    #Open/create a file to append data to\n",
    "    csvFile = open('tweets_result.csv', 'w', newline='', encoding='utf-8-sig')\n",
    "    #Use csv writer\n",
    "    csvWriter = csv.writer(csvFile)\n",
    "    csvWriter.writerow(['url','username','date','time','tweet'])\n",
    "\n",
    "    # Write tweets into the csv file\n",
    "    for i,tweet in enumerate(sntwitter.TwitterSearchScraper(keyword + ' lang:ko since:2021-04-25 until:2021-09-30 include:nativeretweets').get_items()):\n",
    "            if i > maxTweets :\n",
    "                break  \n",
    "            date=int(datetime.datetime.strptime(str(tweet.date)[:-6],\"%Y-%m-%d %H:%M:%S\").timestamp())+32400\n",
    "            #print(date)\n",
    "            date=datetime.datetime.fromtimestamp(int(date)).strftime('%Y-%m-%d %H:%M:%S')\n",
    "            #print(date)\n",
    "            csvWriter.writerow([tweet.url,'@'+tweet.username, str(date).split()[0],str(date).split()[1], tweet.content])\n",
    "            URL=tweet.url\n",
    "            #print(URL)\n",
    "            USERNAME= '@'+tweet.username\n",
    "            DATE=str(tweet.date).split()[0]\n",
    "            TIME=str(tweet.date).split()[1]\n",
    "            TEXT=tweet.content\n",
    "            tup=(URL,USERNAME,DATE,TIME,TEXT)\n",
    "            mycursor.execute(ins,tup)\n",
    "    csvFile.close()\n",
    "    df=pd.read_csv('tweets_result.csv')\n",
    "    df.head(50)\n",
    "\n",
    "    mydb.commit()\n",
    "    mydb.close()"
   ]
  },
  {
   "cell_type": "code",
   "execution_count": 4,
   "id": "c887c7c6",
   "metadata": {},
   "outputs": [],
   "source": [
    "tweet_list()"
   ]
  },
  {
   "cell_type": "code",
   "execution_count": null,
   "id": "0fe89abf",
   "metadata": {},
   "outputs": [],
   "source": []
  }
 ],
 "metadata": {
  "kernelspec": {
   "display_name": "Python 3",
   "language": "python",
   "name": "python3"
  },
  "language_info": {
   "codemirror_mode": {
    "name": "ipython",
    "version": 3
   },
   "file_extension": ".py",
   "mimetype": "text/x-python",
   "name": "python",
   "nbconvert_exporter": "python",
   "pygments_lexer": "ipython3",
   "version": "3.8.8"
  }
 },
 "nbformat": 4,
 "nbformat_minor": 5
}
